{
 "cells": [
  {
   "cell_type": "code",
   "execution_count": 1,
   "metadata": {},
   "outputs": [],
   "source": [
    "import pandas as pd\n",
    "import requests\n",
    "from urllib.parse import urlencode\n",
    "from fuzzywuzzy import fuzz\n",
    "from fuzzywuzzy import process\n",
    "from sqlalchemy import text\n",
    "from kf_model_omop.factory import scoped_session"
   ]
  },
  {
   "cell_type": "code",
   "execution_count": 7,
   "metadata": {},
   "outputs": [
    {
     "data": {
      "text/plain": [
       "{'className': 'Race',\n",
       " 'code': '2',\n",
       " 'domain': 'Race',\n",
       " 'id': 8515,\n",
       " 'invalidReason': 'Valid',\n",
       " 'name': 'Asian',\n",
       " 'standardConcept': 'Standard',\n",
       " 'vocabulary': 'Race'}"
      ]
     },
     "execution_count": 7,
     "metadata": {},
     "output_type": "execute_result"
    }
   ],
   "source": [
    "API_URL = 'http://athena.ohdsi.org/api/v1/concepts'\n",
    "query_params = {'query': 'Asian'.lower(),\n",
    "               'standardConcept': 'Standard',\n",
    "               'domain': 'Race'}\n",
    "query_string = urlencode(query_params)\n",
    "prefer_standard = False\n",
    "\n",
    "concept = None\n",
    "\n",
    "response = requests.get(f'{API_URL}?{query_string}')\n",
    "athena_results = []\n",
    "if response.status_code == 200:\n",
    "    athena_results = response.json()['content']\n",
    "else:\n",
    "    print(response.text())\n",
    "    \n",
    "# Fuzzy text search\n",
    "if athena_results:\n",
    "    concept = athena_results[0]\n",
    "    \n",
    "    fuzzy_results = process.extract(query_params['query'], athena_results, scorer=fuzz.token_sort_ratio)\n",
    "    fuzzy_results_df = pd.DataFrame([r[0] for r in fuzzy_results])\n",
    "    \n",
    "    # Apply filters\n",
    "    filtered_df = fuzzy_results_df[fuzzy_results_df['invalidReason'] == 'Valid']\n",
    "    if prefer_standard:\n",
    "        filters = [('standardConcept', 'Standard')]\n",
    "        for f in filters:\n",
    "            if not filtered_df.empty:\n",
    "                filtered_df = filtered_df[filtered_df[f[0]] == f[1]]\n",
    "\n",
    "    # Choose best result\n",
    "    if not filtered_df.empty:\n",
    "        concept = filtered_df.iloc[0].to_dict()\n",
    "    elif not fuzzy_results_df.empty:\n",
    "        concept = fuzzy_results_df.iloc[0].to_dict()\n",
    "\n",
    "concept"
   ]
  },
  {
   "cell_type": "code",
   "execution_count": 8,
   "metadata": {},
   "outputs": [
    {
     "data": {
      "text/plain": [
       "{'care_site_id': 'CareSite',\n",
       " 'concept_id': 'Concept',\n",
       " 'concept_class_id': 'ConceptClass',\n",
       " 'condition_era_id': 'ConditionEra',\n",
       " 'condition_occurrence_id': 'ConditionOccurrence',\n",
       " 'cost_id': 'Cost',\n",
       " 'device_exposure_id': 'DeviceExposure',\n",
       " 'domain_id': 'Domain',\n",
       " 'dose_era_id': 'DoseEra',\n",
       " 'drug_era_id': 'DrugEra',\n",
       " 'drug_exposure_id': 'DrugExposure',\n",
       " 'location_id': 'Location',\n",
       " 'location_history_id': 'LocationHistory',\n",
       " 'measurement_id': 'Measurement',\n",
       " 'note_id': 'Note',\n",
       " 'note_nlp_id': 'NoteNlp',\n",
       " 'observation_id': 'Observation',\n",
       " 'observation_period_id': 'ObservationPeriod',\n",
       " 'payer_plan_period_id': 'PayerPlanPeriod',\n",
       " 'person_id': 'Person',\n",
       " 'procedure_occurrence_id': 'ProcedureOccurrence',\n",
       " 'provider_id': 'Provider',\n",
       " 'relationship_id': 'Relationship',\n",
       " 'source_code': 'SourceToConceptMap',\n",
       " 'specimen_id': 'Speciman',\n",
       " 'survey_conduct_id': 'SurveyConduct',\n",
       " 'visit_detail_id': 'VisitDetail',\n",
       " 'visit_occurrence_id': 'VisitOccurrence',\n",
       " 'vocabulary_id': 'Vocabulary'}"
      ]
     },
     "execution_count": 8,
     "metadata": {},
     "output_type": "execute_result"
    }
   ],
   "source": [
    "from common.target_api_config import schema\n",
    "from common.concept_schema import OMOP\n",
    "\n",
    "id_model_map = {}\n",
    "for model_name, model_schema in schema.items():\n",
    "    if model_schema['_primary_key']:\n",
    "        primary_key_name = list(model_schema['_primary_key'].keys())[0]\n",
    "        id_model_map[primary_key_name] = model_name\n",
    "\n",
    "id_model_map"
   ]
  },
  {
   "cell_type": "code",
   "execution_count": null,
   "metadata": {},
   "outputs": [],
   "source": []
  }
 ],
 "metadata": {
  "kernelspec": {
   "display_name": "Python 3",
   "language": "python",
   "name": "python3"
  },
  "language_info": {
   "codemirror_mode": {
    "name": "ipython",
    "version": 3
   },
   "file_extension": ".py",
   "mimetype": "text/x-python",
   "name": "python",
   "nbconvert_exporter": "python",
   "pygments_lexer": "ipython3",
   "version": "3.7.0"
  }
 },
 "nbformat": 4,
 "nbformat_minor": 2
}
